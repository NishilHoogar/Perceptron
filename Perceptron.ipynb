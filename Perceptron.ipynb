{
  "nbformat": 4,
  "nbformat_minor": 0,
  "metadata": {
    "colab": {
      "provenance": [],
      "authorship_tag": "ABX9TyNmFPdy6a8Nec+n1SJ6ozIP"
    },
    "kernelspec": {
      "name": "python3",
      "display_name": "Python 3"
    },
    "language_info": {
      "name": "python"
    }
  },
  "cells": [
    {
      "cell_type": "code",
      "execution_count": 8,
      "metadata": {
        "colab": {
          "base_uri": "https://localhost:8080/"
        },
        "id": "Ra0xzRSIzsJ3",
        "outputId": "5f82c3f8-88b3-40d4-dd62-c8c5b1747a6c"
      },
      "outputs": [
        {
          "output_type": "stream",
          "name": "stdout",
          "text": [
            "0.06\n",
            "0.26\n",
            "0.6799999999999999\n",
            "The result is as follows: 1\n"
          ]
        }
      ],
      "source": [
        "x_input = [0.2, 0.4, 0.6]\n",
        "w_weights = [0.3, 0.5, 0.7]\n",
        "threshold = [0.5]\n",
        "\n",
        "def step(weighted_sum):\n",
        "    if weighted_sum > threshold[0]:\n",
        "        return 1\n",
        "    else:\n",
        "        return 0\n",
        "\n",
        "def perceptron():\n",
        "    weighted_sum = 0\n",
        "    for x, w in zip(x_input, w_weights):\n",
        "        weighted_sum += x * w\n",
        "        print(weighted_sum)\n",
        "    return step(weighted_sum)\n",
        "\n",
        "output = perceptron()\n",
        "print(\"The result is as follows: \" + str(output))\n"
      ]
    }
  ]
}